{
 "cells": [
  {
   "cell_type": "code",
   "execution_count": null,
   "metadata": {
    "collapsed": true
   },
   "outputs": [],
   "source": [
    "import os\n",
    "from pathlib import Path"
   ]
  },
  {
   "cell_type": "markdown",
   "source": [
    "# Task 1"
   ],
   "metadata": {
    "collapsed": false
   }
  },
  {
   "cell_type": "code",
   "execution_count": null,
   "outputs": [],
   "source": [
    "if not os.path.exists(\"output\"):\n",
    "    os.mkdir(\"output\")\n",
    "output_path = Path(os.getcwd(), \"output\")\n"
   ],
   "metadata": {
    "collapsed": false
   }
  },
  {
   "cell_type": "code",
   "execution_count": null,
   "outputs": [],
   "source": [
    "if not os.path.exists(Path(output_path, \"task_1\")):\n",
    "    os.mkdir(Path(output_path, \"task_1\"))\n",
    "task_1_output = Path(output_path, \"task_1\")\n"
   ],
   "metadata": {
    "collapsed": false
   }
  },
  {
   "cell_type": "code",
   "execution_count": null,
   "outputs": [],
   "source": [
    "os.system(f\"\"\"python3 run.py --solar_irradiance_path=\"/Users/David/Downloads/CS_energy_assessment_solar_irradiance.csv\" --energy_demand_profile_path=\"/Users/David/Downloads/CS_energy_assessment_electricity_smart_meter.csv\" --solar_array_size=4500 --output_path={task_1_output} --battery_degradation_rate=0.001 --initial_battery_capacity=0 --optimisation_objective='minimise_battery_cap'\"\"\")\n"
   ],
   "metadata": {
    "collapsed": false
   }
  },
  {
   "cell_type": "markdown",
   "source": [
    "## Sensitivity Analysis"
   ],
   "metadata": {
    "collapsed": false
   }
  },
  {
   "cell_type": "code",
   "execution_count": null,
   "outputs": [],
   "source": [
    "task_1_output_sensitivity = Path(task_1_output, \"senstivity_analysis\")\n",
    "if not os.path.exists(task_1_output_sensitivity):\n",
    "    os.mkdir(task_1_output_sensitivity)"
   ],
   "metadata": {
    "collapsed": false
   }
  },
  {
   "cell_type": "code",
   "execution_count": null,
   "outputs": [],
   "source": [
    "initial_battery_capacities = range(0, 25, 5)\n",
    "battery_degradation_rates = [0.001, 0.005, 0.01, 0.015,\n",
    "                             0.02]\n",
    "solar_array_sizes = range(500, 5000, 500)\n",
    "\n",
    "for solar_array_size in solar_array_sizes:\n",
    "    for battery_degradation_rate in battery_degradation_rates:\n",
    "        for initial_battery_capacity in initial_battery_capacities:\n",
    "            sub_dir_str = f\"{solar_array_size}_{battery_degradation_rate}_{initial_battery_capacity}\"\n",
    "            sub_dir = Path(task_1_output_sensitivity, sub_dir_str)\n",
    "            os.system(f\"\"\"python3 run.py --solar_irradiance_path=\"/Users/David/Downloads/CS_energy_assessment_solar_irradiance.csv\" --energy_demand_profile_path=\"/Users/David/Downloads/CS_energy_assessment_electricity_smart_meter.csv\" --solar_array_size={solar_array_size} --output_path={sub_dir} --battery_degradation_rate={battery_degradation_rate} --initial_battery_capacity={initial_battery_capacity} --optimisation_objective='minimise_battery_cap'\"\"\")\n"
   ],
   "metadata": {
    "collapsed": false
   }
  },
  {
   "cell_type": "markdown",
   "source": [
    "Get the outputs from the sensitivity analysis by looping through the sub directories and getting the outputs"
   ],
   "metadata": {
    "collapsed": false
   }
  },
  {
   "cell_type": "code",
   "execution_count": null,
   "outputs": [],
   "source": [
    "import pandas as pd\n",
    "import numpy as np\n",
    "import matplotlib.pyplot as plt\n",
    "import seaborn as sns\n",
    "\n",
    "df_all = pd.DataFrame()\n",
    "for solar_array_size in solar_array_sizes:\n",
    "    for battery_degradation_rate in battery_degradation_rates:\n",
    "        for initial_battery_capacity in initial_battery_capacities:\n",
    "            sub_dir_str = f\"{solar_array_size}_{battery_degradation_rate}_{initial_battery_capacity}\"\n",
    "            sub_dir = Path(task_1_output_sensitivity, sub_dir_str)\n",
    "            df = pd.read_csv(Path(sub_dir, \"optimisation_results.csv\"))\n",
    "            df[\"solar_array_size\"] = solar_array_size\n",
    "            df[\"battery_degradation_rate\"] = battery_degradation_rate\n",
    "            df[\"initial_battery_capacity\"] = initial_battery_capacity\n",
    "            if solar_array_size == 100 and battery_degradation_rate == 0.001 and initial_battery_capacity == 0:\n",
    "                df_all = df\n",
    "            else:\n",
    "                df_all = pd.concat([df_all, df])"
   ],
   "metadata": {
    "collapsed": false
   }
  },
  {
   "cell_type": "markdown",
   "source": [],
   "metadata": {
    "collapsed": false
   }
  },
  {
   "cell_type": "code",
   "execution_count": null,
   "outputs": [],
   "source": [],
   "metadata": {
    "collapsed": false
   }
  },
  {
   "cell_type": "markdown",
   "source": [
    "# Task 2"
   ],
   "metadata": {
    "collapsed": false
   }
  },
  {
   "cell_type": "code",
   "execution_count": null,
   "outputs": [],
   "source": [
    "os.system(f\"\"\"python3 run.py --solar_irradiance_path=\"/Users/David/Downloads/CS_energy_assessment_solar_irradiance.csv\" --energy_demand_profile_path=\"/Users/David/Downloads/CS_energy_assessment_electricity_smart_meter.csv\" --solar_capex= --battery_capex=300 --output_path={task_1_output} --battery_degradation_rate=0.001 --initial_battery_capacity=0 --optimisation_objective='minimise_battery_and_solar_cost'\"\"\")"
   ],
   "metadata": {
    "collapsed": false
   }
  },
  {
   "cell_type": "code",
   "execution_count": null,
   "outputs": [],
   "source": [
    "\"--solar_irradiance_path\"\n",
    "\"--energy_demand_profile_path\"\n",
    "\"--output_path\"\n",
    "\"--logging_level\"\n",
    "\"--solar_array_size\"\n",
    "\"--initial_battery_capacity\"\n",
    "\"--battery_degradation_rate\"\n",
    "\"--optimisation_objective\"\n",
    "\"--battery_capex\"\n",
    "\"--solar_capex\"\n"
   ],
   "metadata": {
    "collapsed": false
   }
  }
 ],
 "metadata": {
  "kernelspec": {
   "display_name": "Python 3",
   "language": "python",
   "name": "python3"
  },
  "language_info": {
   "codemirror_mode": {
    "name": "ipython",
    "version": 2
   },
   "file_extension": ".py",
   "mimetype": "text/x-python",
   "name": "python",
   "nbconvert_exporter": "python",
   "pygments_lexer": "ipython2",
   "version": "2.7.6"
  }
 },
 "nbformat": 4,
 "nbformat_minor": 0
}
